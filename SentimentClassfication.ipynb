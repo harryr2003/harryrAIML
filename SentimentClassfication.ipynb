{
  "cells": [
    {
      "cell_type": "markdown",
      "metadata": {
        "id": "234b4683"
      },
      "source": [
        "# Sentiment Classification of Product Reviews Using RNNs"
      ],
      "id": "234b4683"
    },
    {
      "cell_type": "markdown",
      "metadata": {
        "id": "6224533d"
      },
      "source": [
        "## Read and Explore the dataset"
      ],
      "id": "6224533d"
    },
    {
      "cell_type": "markdown",
      "metadata": {
        "id": "2ClwOo6oNA3n"
      },
      "source": [
        "Explore the dataset\n",
        "\n",
        "Data Manipulations - Data Processing\n",
        "\n",
        "Cleaning\n",
        "\n",
        "Tokenize the reviews\n",
        "\n",
        "Convert this into tensor. Array\n",
        "\n",
        "Padding for small reviews\n",
        "\n",
        "Build a model and train the model\n",
        "\n",
        "Predict the sentiments\n"
      ],
      "id": "2ClwOo6oNA3n"
    },
    {
      "cell_type": "code",
      "execution_count": 1,
      "metadata": {
        "id": "58f5c56f"
      },
      "outputs": [],
      "source": [
        "import warnings\n",
        "warnings.filterwarnings('ignore')"
      ],
      "id": "58f5c56f"
    },
    {
      "cell_type": "code",
      "execution_count": 2,
      "metadata": {
        "id": "c1f983e5"
      },
      "outputs": [],
      "source": [
        "import pandas as pd\n",
        "import numpy as np\n",
        "import re"
      ],
      "id": "c1f983e5"
    },
    {
      "cell_type": "code",
      "execution_count": null,
      "metadata": {
        "id": "VaNVnDIZK1d_"
      },
      "outputs": [],
      "source": [
        "# from google.colab import drive\n",
        "# drive.mount(\"/content/drive/\")"
      ],
      "id": "VaNVnDIZK1d_"
    },
    {
      "cell_type": "code",
      "execution_count": 3,
      "metadata": {
        "colab": {
          "base_uri": "https://localhost:8080/"
        },
        "id": "zjVbjwKbYWwk",
        "outputId": "ea38b23b-fbc3-45f6-e649-30b1c3654409"
      },
      "outputs": [
        {
          "output_type": "stream",
          "name": "stdout",
          "text": [
            "Writing get_data.sh\n"
          ]
        }
      ],
      "source": [
        "%%writefile get_data.sh\n",
        "if [ ! -f amazon_product_reviews_mod.csv ]; then\n",
        "  wget -O amazon_product_reviews_mod.csv https://www.dropbox.com/scl/fi/imdwnlb4b617hfrepik8c/amazon_product_reviews_mod.csv?rlkey=3oafw8jsifa74v8hsvsuhcf77&dl=0\n",
        "fi"
      ],
      "id": "zjVbjwKbYWwk"
    },
    {
      "cell_type": "code",
      "execution_count": 4,
      "metadata": {
        "colab": {
          "base_uri": "https://localhost:8080/"
        },
        "id": "fBK2w87uYX4M",
        "outputId": "b04ce39c-5d75-4e3f-bc53-481842cd8a5d"
      },
      "outputs": [
        {
          "output_type": "stream",
          "name": "stdout",
          "text": [
            "--2024-02-29 14:22:48--  https://www.dropbox.com/scl/fi/imdwnlb4b617hfrepik8c/amazon_product_reviews_mod.csv?rlkey=3oafw8jsifa74v8hsvsuhcf77\n",
            "Resolving www.dropbox.com (www.dropbox.com)... 162.125.13.18, 2620:100:6057:18::a27d:d12\n",
            "Connecting to www.dropbox.com (www.dropbox.com)|162.125.13.18|:443... connected.\n",
            "HTTP request sent, awaiting response... 302 Found\n",
            "Location: https://uce074e604ced077c80693fdca71.dl.dropboxusercontent.com/cd/0/inline/COMLg9JZzcq7sxuIZYXc934W6RrV3Eg9Sswncq6m_vyqqHV2qfCW6eiv7tbu05JE4DxRLehmL5OyOIAE3mLaSZY4aEcIzvM7zypjGZF9uycKKO6-kMEyMD4PX3e9fSIHV_RCKEbCrd7Oc4sv9RWfSljj/file# [following]\n",
            "--2024-02-29 14:22:49--  https://uce074e604ced077c80693fdca71.dl.dropboxusercontent.com/cd/0/inline/COMLg9JZzcq7sxuIZYXc934W6RrV3Eg9Sswncq6m_vyqqHV2qfCW6eiv7tbu05JE4DxRLehmL5OyOIAE3mLaSZY4aEcIzvM7zypjGZF9uycKKO6-kMEyMD4PX3e9fSIHV_RCKEbCrd7Oc4sv9RWfSljj/file\n",
            "Resolving uce074e604ced077c80693fdca71.dl.dropboxusercontent.com (uce074e604ced077c80693fdca71.dl.dropboxusercontent.com)... 162.125.13.15, 2620:100:6018:15::a27d:30f\n",
            "Connecting to uce074e604ced077c80693fdca71.dl.dropboxusercontent.com (uce074e604ced077c80693fdca71.dl.dropboxusercontent.com)|162.125.13.15|:443... connected.\n",
            "HTTP request sent, awaiting response... 200 OK\n",
            "Length: 4905395 (4.7M) [text/plain]\n",
            "Saving to: ‘amazon_product_reviews_mod.csv’\n",
            "\n",
            "amazon_product_revi 100%[===================>]   4.68M  28.8MB/s    in 0.2s    \n",
            "\n",
            "2024-02-29 14:22:50 (28.8 MB/s) - ‘amazon_product_reviews_mod.csv’ saved [4905395/4905395]\n",
            "\n"
          ]
        }
      ],
      "source": [
        "!bash get_data.sh"
      ],
      "id": "fBK2w87uYX4M"
    },
    {
      "cell_type": "code",
      "source": [
        "!ls\n"
      ],
      "metadata": {
        "colab": {
          "base_uri": "https://localhost:8080/"
        },
        "id": "S6MoqhvUPybK",
        "outputId": "0bbb9dc5-dba3-4ee1-dd65-4de01637cd2b"
      },
      "id": "S6MoqhvUPybK",
      "execution_count": 5,
      "outputs": [
        {
          "output_type": "stream",
          "name": "stdout",
          "text": [
            "amazon_product_reviews_mod.csv\tget_data.sh  sample_data\n"
          ]
        }
      ]
    },
    {
      "cell_type": "code",
      "execution_count": null,
      "metadata": {
        "id": "6XTCiYPbQtxA"
      },
      "outputs": [],
      "source": [
        "#cd 'drive/My Drive'"
      ],
      "id": "6XTCiYPbQtxA"
    },
    {
      "cell_type": "markdown",
      "metadata": {
        "id": "65c67f1d"
      },
      "source": [
        "We already downloaded the dataset from [here](https://www.kaggle.com/datasets/datafiniti/consumer-reviews-of-amazon-products?select=1429_1.csv) and saved it as a CSV file which we'll read now using Pandas."
      ],
      "id": "65c67f1d"
    },
    {
      "cell_type": "code",
      "execution_count": 6,
      "metadata": {
        "id": "2ef39fe5"
      },
      "outputs": [],
      "source": [
        "#path = 'HousePricePrediction.csv.csv'\n",
        "# create a dataframe from csv\n",
        "df = pd.read_csv('amazon_product_reviews_mod.csv')"
      ],
      "id": "2ef39fe5"
    },
    {
      "cell_type": "code",
      "execution_count": 7,
      "metadata": {
        "colab": {
          "base_uri": "https://localhost:8080/"
        },
        "id": "a809651f",
        "outputId": "289f7207-5a2d-467f-ba84-dd44b9629412"
      },
      "outputs": [
        {
          "output_type": "execute_result",
          "data": {
            "text/plain": [
              "(28332, 4)"
            ]
          },
          "metadata": {},
          "execution_count": 7
        }
      ],
      "source": [
        "df.shape    #Info on dataframe  (like display)"
      ],
      "id": "a809651f"
    },
    {
      "cell_type": "code",
      "source": [
        "df.info()"
      ],
      "metadata": {
        "colab": {
          "base_uri": "https://localhost:8080/"
        },
        "id": "XAvgHWJaQCH6",
        "outputId": "1a449807-458e-4ec7-c5b0-736a08495cb6"
      },
      "id": "XAvgHWJaQCH6",
      "execution_count": 9,
      "outputs": [
        {
          "output_type": "stream",
          "name": "stdout",
          "text": [
            "<class 'pandas.core.frame.DataFrame'>\n",
            "RangeIndex: 28332 entries, 0 to 28331\n",
            "Data columns (total 4 columns):\n",
            " #   Column            Non-Null Count  Dtype \n",
            "---  ------            --------------  ----- \n",
            " 0   reviews.rating    28332 non-null  int64 \n",
            " 1   reviews.text      28332 non-null  object\n",
            " 2   reviews.title     28332 non-null  object\n",
            " 3   reviews.username  28332 non-null  object\n",
            "dtypes: int64(1), object(3)\n",
            "memory usage: 885.5+ KB\n"
          ]
        }
      ]
    },
    {
      "cell_type": "code",
      "execution_count": 11,
      "metadata": {
        "colab": {
          "base_uri": "https://localhost:8080/"
        },
        "id": "24c23cd2",
        "outputId": "e65cecab-4aa7-458b-84fd-f8ba6c0a16fc"
      },
      "outputs": [
        {
          "output_type": "execute_result",
          "data": {
            "text/plain": [
              "reviews.rating                                                      4\n",
              "reviews.text        Ive been buying these since they started selli...\n",
              "reviews.title                                    A leaker in the pack\n",
              "reviews.username                              ByCurtis Taylor Numberg\n",
              "Name: 101, dtype: object"
            ]
          },
          "metadata": {},
          "execution_count": 11
        }
      ],
      "source": [
        "df.iloc[101]   #look at the data (row 100)"
      ],
      "id": "24c23cd2"
    },
    {
      "cell_type": "code",
      "execution_count": 12,
      "metadata": {
        "colab": {
          "base_uri": "https://localhost:8080/"
        },
        "id": "4e1af566",
        "outputId": "b169679c-56d3-46a8-b6eb-8b23fceb5a92"
      },
      "outputs": [
        {
          "output_type": "stream",
          "name": "stdout",
          "text": [
            "5\n",
            "As a teacher, I need tons of batteries, but I refused to spend excessive amounts on them, so I figured this was the best option! They are long-lasting, worth the money, cute (if that even matters, lol)! You won't find a deal like this in stores!I highly recommend!\n"
          ]
        }
      ],
      "source": [
        "print(df.iloc[100][\"reviews.rating\"])\n",
        "print(df.iloc[100][\"reviews.text\"])"
      ],
      "id": "4e1af566"
    },
    {
      "cell_type": "code",
      "execution_count": null,
      "metadata": {
        "colab": {
          "base_uri": "https://localhost:8080/"
        },
        "id": "04185a30",
        "outputId": "ffa0da7c-46af-4fa6-9925-83b3cfc54d48"
      },
      "outputs": [
        {
          "output_type": "stream",
          "name": "stdout",
          "text": [
            "5\n",
            "Had to chose between Fire 10 and Fire 8. For the money, you can't go wrong with the Fire 8. Screen is good for \" older eyes\".\n"
          ]
        }
      ],
      "source": [
        "print(df.iloc[27162][\"reviews.rating\"])\n",
        "print(df.iloc[27162][\"reviews.text\"])"
      ],
      "id": "04185a30"
    },
    {
      "cell_type": "markdown",
      "metadata": {
        "id": "eef30c1e"
      },
      "source": [
        "## Data Manipulations"
      ],
      "id": "eef30c1e"
    },
    {
      "cell_type": "code",
      "execution_count": 17,
      "metadata": {
        "id": "66739e54"
      },
      "outputs": [],
      "source": [
        "reviews_df = df[[\"reviews.text\", \"reviews.rating\",]]                #Just need 2 columns that are important.. so equivalent of doing select in scala.\n",
        "reviews_df.columns = [\"review\", \"rating\"]"
      ],
      "id": "66739e54"
    },
    {
      "cell_type": "code",
      "execution_count": null,
      "metadata": {
        "colab": {
          "base_uri": "https://localhost:8080/",
          "height": 363
        },
        "id": "629dec13",
        "outputId": "db305900-6b74-49eb-c18b-fd5b90bb135f"
      },
      "outputs": [
        {
          "output_type": "execute_result",
          "data": {
            "text/plain": [
              "                                              review  rating\n",
              "0  I order 3 of them and one of the item is bad q...       3\n",
              "1  Bulk is always the less expensive way to go fo...       4\n",
              "2  Well they are not Duracell but for the price i...       5\n",
              "3  Seem to work as well as name brand batteries a...       5\n",
              "4  These batteries are very long lasting the pric...       5\n",
              "5  Bought a lot of batteries for Christmas and th...       5\n",
              "6  ive not had any problame with these batteries ...       5\n",
              "7  Well if you are looking for cheap non-recharge...       5\n",
              "8  These do not hold the amount of high power jui...       3\n",
              "9  AmazonBasics AA AAA batteries have done well b...       4"
            ],
            "text/html": [
              "\n",
              "  <div id=\"df-6ab136b9-ce5e-4e14-91fb-8b4127a0f0a6\" class=\"colab-df-container\">\n",
              "    <div>\n",
              "<style scoped>\n",
              "    .dataframe tbody tr th:only-of-type {\n",
              "        vertical-align: middle;\n",
              "    }\n",
              "\n",
              "    .dataframe tbody tr th {\n",
              "        vertical-align: top;\n",
              "    }\n",
              "\n",
              "    .dataframe thead th {\n",
              "        text-align: right;\n",
              "    }\n",
              "</style>\n",
              "<table border=\"1\" class=\"dataframe\">\n",
              "  <thead>\n",
              "    <tr style=\"text-align: right;\">\n",
              "      <th></th>\n",
              "      <th>review</th>\n",
              "      <th>rating</th>\n",
              "    </tr>\n",
              "  </thead>\n",
              "  <tbody>\n",
              "    <tr>\n",
              "      <th>0</th>\n",
              "      <td>I order 3 of them and one of the item is bad q...</td>\n",
              "      <td>3</td>\n",
              "    </tr>\n",
              "    <tr>\n",
              "      <th>1</th>\n",
              "      <td>Bulk is always the less expensive way to go fo...</td>\n",
              "      <td>4</td>\n",
              "    </tr>\n",
              "    <tr>\n",
              "      <th>2</th>\n",
              "      <td>Well they are not Duracell but for the price i...</td>\n",
              "      <td>5</td>\n",
              "    </tr>\n",
              "    <tr>\n",
              "      <th>3</th>\n",
              "      <td>Seem to work as well as name brand batteries a...</td>\n",
              "      <td>5</td>\n",
              "    </tr>\n",
              "    <tr>\n",
              "      <th>4</th>\n",
              "      <td>These batteries are very long lasting the pric...</td>\n",
              "      <td>5</td>\n",
              "    </tr>\n",
              "    <tr>\n",
              "      <th>5</th>\n",
              "      <td>Bought a lot of batteries for Christmas and th...</td>\n",
              "      <td>5</td>\n",
              "    </tr>\n",
              "    <tr>\n",
              "      <th>6</th>\n",
              "      <td>ive not had any problame with these batteries ...</td>\n",
              "      <td>5</td>\n",
              "    </tr>\n",
              "    <tr>\n",
              "      <th>7</th>\n",
              "      <td>Well if you are looking for cheap non-recharge...</td>\n",
              "      <td>5</td>\n",
              "    </tr>\n",
              "    <tr>\n",
              "      <th>8</th>\n",
              "      <td>These do not hold the amount of high power jui...</td>\n",
              "      <td>3</td>\n",
              "    </tr>\n",
              "    <tr>\n",
              "      <th>9</th>\n",
              "      <td>AmazonBasics AA AAA batteries have done well b...</td>\n",
              "      <td>4</td>\n",
              "    </tr>\n",
              "  </tbody>\n",
              "</table>\n",
              "</div>\n",
              "    <div class=\"colab-df-buttons\">\n",
              "\n",
              "  <div class=\"colab-df-container\">\n",
              "    <button class=\"colab-df-convert\" onclick=\"convertToInteractive('df-6ab136b9-ce5e-4e14-91fb-8b4127a0f0a6')\"\n",
              "            title=\"Convert this dataframe to an interactive table.\"\n",
              "            style=\"display:none;\">\n",
              "\n",
              "  <svg xmlns=\"http://www.w3.org/2000/svg\" height=\"24px\" viewBox=\"0 -960 960 960\">\n",
              "    <path d=\"M120-120v-720h720v720H120Zm60-500h600v-160H180v160Zm220 220h160v-160H400v160Zm0 220h160v-160H400v160ZM180-400h160v-160H180v160Zm440 0h160v-160H620v160ZM180-180h160v-160H180v160Zm440 0h160v-160H620v160Z\"/>\n",
              "  </svg>\n",
              "    </button>\n",
              "\n",
              "  <style>\n",
              "    .colab-df-container {\n",
              "      display:flex;\n",
              "      gap: 12px;\n",
              "    }\n",
              "\n",
              "    .colab-df-convert {\n",
              "      background-color: #E8F0FE;\n",
              "      border: none;\n",
              "      border-radius: 50%;\n",
              "      cursor: pointer;\n",
              "      display: none;\n",
              "      fill: #1967D2;\n",
              "      height: 32px;\n",
              "      padding: 0 0 0 0;\n",
              "      width: 32px;\n",
              "    }\n",
              "\n",
              "    .colab-df-convert:hover {\n",
              "      background-color: #E2EBFA;\n",
              "      box-shadow: 0px 1px 2px rgba(60, 64, 67, 0.3), 0px 1px 3px 1px rgba(60, 64, 67, 0.15);\n",
              "      fill: #174EA6;\n",
              "    }\n",
              "\n",
              "    .colab-df-buttons div {\n",
              "      margin-bottom: 4px;\n",
              "    }\n",
              "\n",
              "    [theme=dark] .colab-df-convert {\n",
              "      background-color: #3B4455;\n",
              "      fill: #D2E3FC;\n",
              "    }\n",
              "\n",
              "    [theme=dark] .colab-df-convert:hover {\n",
              "      background-color: #434B5C;\n",
              "      box-shadow: 0px 1px 3px 1px rgba(0, 0, 0, 0.15);\n",
              "      filter: drop-shadow(0px 1px 2px rgba(0, 0, 0, 0.3));\n",
              "      fill: #FFFFFF;\n",
              "    }\n",
              "  </style>\n",
              "\n",
              "    <script>\n",
              "      const buttonEl =\n",
              "        document.querySelector('#df-6ab136b9-ce5e-4e14-91fb-8b4127a0f0a6 button.colab-df-convert');\n",
              "      buttonEl.style.display =\n",
              "        google.colab.kernel.accessAllowed ? 'block' : 'none';\n",
              "\n",
              "      async function convertToInteractive(key) {\n",
              "        const element = document.querySelector('#df-6ab136b9-ce5e-4e14-91fb-8b4127a0f0a6');\n",
              "        const dataTable =\n",
              "          await google.colab.kernel.invokeFunction('convertToInteractive',\n",
              "                                                    [key], {});\n",
              "        if (!dataTable) return;\n",
              "\n",
              "        const docLinkHtml = 'Like what you see? Visit the ' +\n",
              "          '<a target=\"_blank\" href=https://colab.research.google.com/notebooks/data_table.ipynb>data table notebook</a>'\n",
              "          + ' to learn more about interactive tables.';\n",
              "        element.innerHTML = '';\n",
              "        dataTable['output_type'] = 'display_data';\n",
              "        await google.colab.output.renderOutput(dataTable, element);\n",
              "        const docLink = document.createElement('div');\n",
              "        docLink.innerHTML = docLinkHtml;\n",
              "        element.appendChild(docLink);\n",
              "      }\n",
              "    </script>\n",
              "  </div>\n",
              "\n",
              "\n",
              "<div id=\"df-5773acc3-bff7-4841-a4eb-2fc24907153d\">\n",
              "  <button class=\"colab-df-quickchart\" onclick=\"quickchart('df-5773acc3-bff7-4841-a4eb-2fc24907153d')\"\n",
              "            title=\"Suggest charts\"\n",
              "            style=\"display:none;\">\n",
              "\n",
              "<svg xmlns=\"http://www.w3.org/2000/svg\" height=\"24px\"viewBox=\"0 0 24 24\"\n",
              "     width=\"24px\">\n",
              "    <g>\n",
              "        <path d=\"M19 3H5c-1.1 0-2 .9-2 2v14c0 1.1.9 2 2 2h14c1.1 0 2-.9 2-2V5c0-1.1-.9-2-2-2zM9 17H7v-7h2v7zm4 0h-2V7h2v10zm4 0h-2v-4h2v4z\"/>\n",
              "    </g>\n",
              "</svg>\n",
              "  </button>\n",
              "\n",
              "<style>\n",
              "  .colab-df-quickchart {\n",
              "      --bg-color: #E8F0FE;\n",
              "      --fill-color: #1967D2;\n",
              "      --hover-bg-color: #E2EBFA;\n",
              "      --hover-fill-color: #174EA6;\n",
              "      --disabled-fill-color: #AAA;\n",
              "      --disabled-bg-color: #DDD;\n",
              "  }\n",
              "\n",
              "  [theme=dark] .colab-df-quickchart {\n",
              "      --bg-color: #3B4455;\n",
              "      --fill-color: #D2E3FC;\n",
              "      --hover-bg-color: #434B5C;\n",
              "      --hover-fill-color: #FFFFFF;\n",
              "      --disabled-bg-color: #3B4455;\n",
              "      --disabled-fill-color: #666;\n",
              "  }\n",
              "\n",
              "  .colab-df-quickchart {\n",
              "    background-color: var(--bg-color);\n",
              "    border: none;\n",
              "    border-radius: 50%;\n",
              "    cursor: pointer;\n",
              "    display: none;\n",
              "    fill: var(--fill-color);\n",
              "    height: 32px;\n",
              "    padding: 0;\n",
              "    width: 32px;\n",
              "  }\n",
              "\n",
              "  .colab-df-quickchart:hover {\n",
              "    background-color: var(--hover-bg-color);\n",
              "    box-shadow: 0 1px 2px rgba(60, 64, 67, 0.3), 0 1px 3px 1px rgba(60, 64, 67, 0.15);\n",
              "    fill: var(--button-hover-fill-color);\n",
              "  }\n",
              "\n",
              "  .colab-df-quickchart-complete:disabled,\n",
              "  .colab-df-quickchart-complete:disabled:hover {\n",
              "    background-color: var(--disabled-bg-color);\n",
              "    fill: var(--disabled-fill-color);\n",
              "    box-shadow: none;\n",
              "  }\n",
              "\n",
              "  .colab-df-spinner {\n",
              "    border: 2px solid var(--fill-color);\n",
              "    border-color: transparent;\n",
              "    border-bottom-color: var(--fill-color);\n",
              "    animation:\n",
              "      spin 1s steps(1) infinite;\n",
              "  }\n",
              "\n",
              "  @keyframes spin {\n",
              "    0% {\n",
              "      border-color: transparent;\n",
              "      border-bottom-color: var(--fill-color);\n",
              "      border-left-color: var(--fill-color);\n",
              "    }\n",
              "    20% {\n",
              "      border-color: transparent;\n",
              "      border-left-color: var(--fill-color);\n",
              "      border-top-color: var(--fill-color);\n",
              "    }\n",
              "    30% {\n",
              "      border-color: transparent;\n",
              "      border-left-color: var(--fill-color);\n",
              "      border-top-color: var(--fill-color);\n",
              "      border-right-color: var(--fill-color);\n",
              "    }\n",
              "    40% {\n",
              "      border-color: transparent;\n",
              "      border-right-color: var(--fill-color);\n",
              "      border-top-color: var(--fill-color);\n",
              "    }\n",
              "    60% {\n",
              "      border-color: transparent;\n",
              "      border-right-color: var(--fill-color);\n",
              "    }\n",
              "    80% {\n",
              "      border-color: transparent;\n",
              "      border-right-color: var(--fill-color);\n",
              "      border-bottom-color: var(--fill-color);\n",
              "    }\n",
              "    90% {\n",
              "      border-color: transparent;\n",
              "      border-bottom-color: var(--fill-color);\n",
              "    }\n",
              "  }\n",
              "</style>\n",
              "\n",
              "  <script>\n",
              "    async function quickchart(key) {\n",
              "      const quickchartButtonEl =\n",
              "        document.querySelector('#' + key + ' button');\n",
              "      quickchartButtonEl.disabled = true;  // To prevent multiple clicks.\n",
              "      quickchartButtonEl.classList.add('colab-df-spinner');\n",
              "      try {\n",
              "        const charts = await google.colab.kernel.invokeFunction(\n",
              "            'suggestCharts', [key], {});\n",
              "      } catch (error) {\n",
              "        console.error('Error during call to suggestCharts:', error);\n",
              "      }\n",
              "      quickchartButtonEl.classList.remove('colab-df-spinner');\n",
              "      quickchartButtonEl.classList.add('colab-df-quickchart-complete');\n",
              "    }\n",
              "    (() => {\n",
              "      let quickchartButtonEl =\n",
              "        document.querySelector('#df-5773acc3-bff7-4841-a4eb-2fc24907153d button');\n",
              "      quickchartButtonEl.style.display =\n",
              "        google.colab.kernel.accessAllowed ? 'block' : 'none';\n",
              "    })();\n",
              "  </script>\n",
              "</div>\n",
              "\n",
              "    </div>\n",
              "  </div>\n"
            ]
          },
          "metadata": {},
          "execution_count": 11
        }
      ],
      "source": [
        "reviews_df.head(10)"
      ],
      "id": "629dec13"
    },
    {
      "cell_type": "code",
      "execution_count": 16,
      "metadata": {
        "colab": {
          "base_uri": "https://localhost:8080/"
        },
        "id": "15777d3c",
        "outputId": "e051d711-e3c9-4058-dcd8-a6a946b03180"
      },
      "outputs": [
        {
          "output_type": "execute_result",
          "data": {
            "text/plain": [
              "review    0\n",
              "rating    0\n",
              "dtype: int64"
            ]
          },
          "metadata": {},
          "execution_count": 16
        }
      ],
      "source": [
        "reviews_df.isnull().sum()              ## Always check for nulls."
      ],
      "id": "15777d3c"
    },
    {
      "cell_type": "code",
      "execution_count": 18,
      "metadata": {
        "id": "73e22b36"
      },
      "outputs": [],
      "source": [
        "reviews_df.dropna(inplace=True)             ## If null drop the row"
      ],
      "id": "73e22b36"
    },
    {
      "cell_type": "code",
      "execution_count": 14,
      "metadata": {
        "id": "ccba4d40"
      },
      "outputs": [],
      "source": [
        "def sentiments(rating):\n",
        "    if (rating == 5) or (rating == 4):\n",
        "        return \"positive\"\n",
        "    elif rating == 3:\n",
        "        return \"neutral\"\n",
        "    elif (rating == 2) or (rating == 1):\n",
        "        return \"negative\""
      ],
      "id": "ccba4d40"
    },
    {
      "cell_type": "code",
      "execution_count": 19,
      "metadata": {
        "id": "161dbf9d"
      },
      "outputs": [],
      "source": [
        "reviews_df[\"sentiment\"] = reviews_df[\"rating\"].apply(sentiments)            # create a new column based on rating column called \"sentiments\""
      ],
      "id": "161dbf9d"
    },
    {
      "cell_type": "code",
      "execution_count": 20,
      "metadata": {
        "colab": {
          "base_uri": "https://localhost:8080/",
          "height": 363
        },
        "id": "1c2fc1ad",
        "outputId": "02be3309-7665-4b46-b0a6-0482ab29c696"
      },
      "outputs": [
        {
          "output_type": "execute_result",
          "data": {
            "text/plain": [
              "                                              review  rating sentiment\n",
              "0  perfect for plane rides. the product operates ...       5  positive\n",
              "1  This suited my exact needs which was a mobile ...       5  positive\n",
              "2                           Seem to last a long time       4  positive\n",
              "3  I never owned a Kindle before. This was easy t...       5  positive\n",
              "4   good batteries for the price. i will order again       5  positive\n",
              "5  I realized after purchasing that the reason yo...       1  negative\n",
              "6  I do a lot of international travelling, so I h...       5  positive\n",
              "7  Bought one of these two weeks before on Amazon...       5  positive\n",
              "8  I reccomend this tabley yo every one. I purcha...       5  positive\n",
              "9  My granddaughter loved her tablet and the colo...       5  positive"
            ],
            "text/html": [
              "\n",
              "  <div id=\"df-196ce491-3b69-4ece-bc2e-230ccca2bb36\" class=\"colab-df-container\">\n",
              "    <div>\n",
              "<style scoped>\n",
              "    .dataframe tbody tr th:only-of-type {\n",
              "        vertical-align: middle;\n",
              "    }\n",
              "\n",
              "    .dataframe tbody tr th {\n",
              "        vertical-align: top;\n",
              "    }\n",
              "\n",
              "    .dataframe thead th {\n",
              "        text-align: right;\n",
              "    }\n",
              "</style>\n",
              "<table border=\"1\" class=\"dataframe\">\n",
              "  <thead>\n",
              "    <tr style=\"text-align: right;\">\n",
              "      <th></th>\n",
              "      <th>review</th>\n",
              "      <th>rating</th>\n",
              "      <th>sentiment</th>\n",
              "    </tr>\n",
              "  </thead>\n",
              "  <tbody>\n",
              "    <tr>\n",
              "      <th>0</th>\n",
              "      <td>perfect for plane rides. the product operates ...</td>\n",
              "      <td>5</td>\n",
              "      <td>positive</td>\n",
              "    </tr>\n",
              "    <tr>\n",
              "      <th>1</th>\n",
              "      <td>This suited my exact needs which was a mobile ...</td>\n",
              "      <td>5</td>\n",
              "      <td>positive</td>\n",
              "    </tr>\n",
              "    <tr>\n",
              "      <th>2</th>\n",
              "      <td>Seem to last a long time</td>\n",
              "      <td>4</td>\n",
              "      <td>positive</td>\n",
              "    </tr>\n",
              "    <tr>\n",
              "      <th>3</th>\n",
              "      <td>I never owned a Kindle before. This was easy t...</td>\n",
              "      <td>5</td>\n",
              "      <td>positive</td>\n",
              "    </tr>\n",
              "    <tr>\n",
              "      <th>4</th>\n",
              "      <td>good batteries for the price. i will order again</td>\n",
              "      <td>5</td>\n",
              "      <td>positive</td>\n",
              "    </tr>\n",
              "    <tr>\n",
              "      <th>5</th>\n",
              "      <td>I realized after purchasing that the reason yo...</td>\n",
              "      <td>1</td>\n",
              "      <td>negative</td>\n",
              "    </tr>\n",
              "    <tr>\n",
              "      <th>6</th>\n",
              "      <td>I do a lot of international travelling, so I h...</td>\n",
              "      <td>5</td>\n",
              "      <td>positive</td>\n",
              "    </tr>\n",
              "    <tr>\n",
              "      <th>7</th>\n",
              "      <td>Bought one of these two weeks before on Amazon...</td>\n",
              "      <td>5</td>\n",
              "      <td>positive</td>\n",
              "    </tr>\n",
              "    <tr>\n",
              "      <th>8</th>\n",
              "      <td>I reccomend this tabley yo every one. I purcha...</td>\n",
              "      <td>5</td>\n",
              "      <td>positive</td>\n",
              "    </tr>\n",
              "    <tr>\n",
              "      <th>9</th>\n",
              "      <td>My granddaughter loved her tablet and the colo...</td>\n",
              "      <td>5</td>\n",
              "      <td>positive</td>\n",
              "    </tr>\n",
              "  </tbody>\n",
              "</table>\n",
              "</div>\n",
              "    <div class=\"colab-df-buttons\">\n",
              "\n",
              "  <div class=\"colab-df-container\">\n",
              "    <button class=\"colab-df-convert\" onclick=\"convertToInteractive('df-196ce491-3b69-4ece-bc2e-230ccca2bb36')\"\n",
              "            title=\"Convert this dataframe to an interactive table.\"\n",
              "            style=\"display:none;\">\n",
              "\n",
              "  <svg xmlns=\"http://www.w3.org/2000/svg\" height=\"24px\" viewBox=\"0 -960 960 960\">\n",
              "    <path d=\"M120-120v-720h720v720H120Zm60-500h600v-160H180v160Zm220 220h160v-160H400v160Zm0 220h160v-160H400v160ZM180-400h160v-160H180v160Zm440 0h160v-160H620v160ZM180-180h160v-160H180v160Zm440 0h160v-160H620v160Z\"/>\n",
              "  </svg>\n",
              "    </button>\n",
              "\n",
              "  <style>\n",
              "    .colab-df-container {\n",
              "      display:flex;\n",
              "      gap: 12px;\n",
              "    }\n",
              "\n",
              "    .colab-df-convert {\n",
              "      background-color: #E8F0FE;\n",
              "      border: none;\n",
              "      border-radius: 50%;\n",
              "      cursor: pointer;\n",
              "      display: none;\n",
              "      fill: #1967D2;\n",
              "      height: 32px;\n",
              "      padding: 0 0 0 0;\n",
              "      width: 32px;\n",
              "    }\n",
              "\n",
              "    .colab-df-convert:hover {\n",
              "      background-color: #E2EBFA;\n",
              "      box-shadow: 0px 1px 2px rgba(60, 64, 67, 0.3), 0px 1px 3px 1px rgba(60, 64, 67, 0.15);\n",
              "      fill: #174EA6;\n",
              "    }\n",
              "\n",
              "    .colab-df-buttons div {\n",
              "      margin-bottom: 4px;\n",
              "    }\n",
              "\n",
              "    [theme=dark] .colab-df-convert {\n",
              "      background-color: #3B4455;\n",
              "      fill: #D2E3FC;\n",
              "    }\n",
              "\n",
              "    [theme=dark] .colab-df-convert:hover {\n",
              "      background-color: #434B5C;\n",
              "      box-shadow: 0px 1px 3px 1px rgba(0, 0, 0, 0.15);\n",
              "      filter: drop-shadow(0px 1px 2px rgba(0, 0, 0, 0.3));\n",
              "      fill: #FFFFFF;\n",
              "    }\n",
              "  </style>\n",
              "\n",
              "    <script>\n",
              "      const buttonEl =\n",
              "        document.querySelector('#df-196ce491-3b69-4ece-bc2e-230ccca2bb36 button.colab-df-convert');\n",
              "      buttonEl.style.display =\n",
              "        google.colab.kernel.accessAllowed ? 'block' : 'none';\n",
              "\n",
              "      async function convertToInteractive(key) {\n",
              "        const element = document.querySelector('#df-196ce491-3b69-4ece-bc2e-230ccca2bb36');\n",
              "        const dataTable =\n",
              "          await google.colab.kernel.invokeFunction('convertToInteractive',\n",
              "                                                    [key], {});\n",
              "        if (!dataTable) return;\n",
              "\n",
              "        const docLinkHtml = 'Like what you see? Visit the ' +\n",
              "          '<a target=\"_blank\" href=https://colab.research.google.com/notebooks/data_table.ipynb>data table notebook</a>'\n",
              "          + ' to learn more about interactive tables.';\n",
              "        element.innerHTML = '';\n",
              "        dataTable['output_type'] = 'display_data';\n",
              "        await google.colab.output.renderOutput(dataTable, element);\n",
              "        const docLink = document.createElement('div');\n",
              "        docLink.innerHTML = docLinkHtml;\n",
              "        element.appendChild(docLink);\n",
              "      }\n",
              "    </script>\n",
              "  </div>\n",
              "\n",
              "\n",
              "<div id=\"df-50caabbc-4ee4-4ee1-997b-048b57736b49\">\n",
              "  <button class=\"colab-df-quickchart\" onclick=\"quickchart('df-50caabbc-4ee4-4ee1-997b-048b57736b49')\"\n",
              "            title=\"Suggest charts\"\n",
              "            style=\"display:none;\">\n",
              "\n",
              "<svg xmlns=\"http://www.w3.org/2000/svg\" height=\"24px\"viewBox=\"0 0 24 24\"\n",
              "     width=\"24px\">\n",
              "    <g>\n",
              "        <path d=\"M19 3H5c-1.1 0-2 .9-2 2v14c0 1.1.9 2 2 2h14c1.1 0 2-.9 2-2V5c0-1.1-.9-2-2-2zM9 17H7v-7h2v7zm4 0h-2V7h2v10zm4 0h-2v-4h2v4z\"/>\n",
              "    </g>\n",
              "</svg>\n",
              "  </button>\n",
              "\n",
              "<style>\n",
              "  .colab-df-quickchart {\n",
              "      --bg-color: #E8F0FE;\n",
              "      --fill-color: #1967D2;\n",
              "      --hover-bg-color: #E2EBFA;\n",
              "      --hover-fill-color: #174EA6;\n",
              "      --disabled-fill-color: #AAA;\n",
              "      --disabled-bg-color: #DDD;\n",
              "  }\n",
              "\n",
              "  [theme=dark] .colab-df-quickchart {\n",
              "      --bg-color: #3B4455;\n",
              "      --fill-color: #D2E3FC;\n",
              "      --hover-bg-color: #434B5C;\n",
              "      --hover-fill-color: #FFFFFF;\n",
              "      --disabled-bg-color: #3B4455;\n",
              "      --disabled-fill-color: #666;\n",
              "  }\n",
              "\n",
              "  .colab-df-quickchart {\n",
              "    background-color: var(--bg-color);\n",
              "    border: none;\n",
              "    border-radius: 50%;\n",
              "    cursor: pointer;\n",
              "    display: none;\n",
              "    fill: var(--fill-color);\n",
              "    height: 32px;\n",
              "    padding: 0;\n",
              "    width: 32px;\n",
              "  }\n",
              "\n",
              "  .colab-df-quickchart:hover {\n",
              "    background-color: var(--hover-bg-color);\n",
              "    box-shadow: 0 1px 2px rgba(60, 64, 67, 0.3), 0 1px 3px 1px rgba(60, 64, 67, 0.15);\n",
              "    fill: var(--button-hover-fill-color);\n",
              "  }\n",
              "\n",
              "  .colab-df-quickchart-complete:disabled,\n",
              "  .colab-df-quickchart-complete:disabled:hover {\n",
              "    background-color: var(--disabled-bg-color);\n",
              "    fill: var(--disabled-fill-color);\n",
              "    box-shadow: none;\n",
              "  }\n",
              "\n",
              "  .colab-df-spinner {\n",
              "    border: 2px solid var(--fill-color);\n",
              "    border-color: transparent;\n",
              "    border-bottom-color: var(--fill-color);\n",
              "    animation:\n",
              "      spin 1s steps(1) infinite;\n",
              "  }\n",
              "\n",
              "  @keyframes spin {\n",
              "    0% {\n",
              "      border-color: transparent;\n",
              "      border-bottom-color: var(--fill-color);\n",
              "      border-left-color: var(--fill-color);\n",
              "    }\n",
              "    20% {\n",
              "      border-color: transparent;\n",
              "      border-left-color: var(--fill-color);\n",
              "      border-top-color: var(--fill-color);\n",
              "    }\n",
              "    30% {\n",
              "      border-color: transparent;\n",
              "      border-left-color: var(--fill-color);\n",
              "      border-top-color: var(--fill-color);\n",
              "      border-right-color: var(--fill-color);\n",
              "    }\n",
              "    40% {\n",
              "      border-color: transparent;\n",
              "      border-right-color: var(--fill-color);\n",
              "      border-top-color: var(--fill-color);\n",
              "    }\n",
              "    60% {\n",
              "      border-color: transparent;\n",
              "      border-right-color: var(--fill-color);\n",
              "    }\n",
              "    80% {\n",
              "      border-color: transparent;\n",
              "      border-right-color: var(--fill-color);\n",
              "      border-bottom-color: var(--fill-color);\n",
              "    }\n",
              "    90% {\n",
              "      border-color: transparent;\n",
              "      border-bottom-color: var(--fill-color);\n",
              "    }\n",
              "  }\n",
              "</style>\n",
              "\n",
              "  <script>\n",
              "    async function quickchart(key) {\n",
              "      const quickchartButtonEl =\n",
              "        document.querySelector('#' + key + ' button');\n",
              "      quickchartButtonEl.disabled = true;  // To prevent multiple clicks.\n",
              "      quickchartButtonEl.classList.add('colab-df-spinner');\n",
              "      try {\n",
              "        const charts = await google.colab.kernel.invokeFunction(\n",
              "            'suggestCharts', [key], {});\n",
              "      } catch (error) {\n",
              "        console.error('Error during call to suggestCharts:', error);\n",
              "      }\n",
              "      quickchartButtonEl.classList.remove('colab-df-spinner');\n",
              "      quickchartButtonEl.classList.add('colab-df-quickchart-complete');\n",
              "    }\n",
              "    (() => {\n",
              "      let quickchartButtonEl =\n",
              "        document.querySelector('#df-50caabbc-4ee4-4ee1-997b-048b57736b49 button');\n",
              "      quickchartButtonEl.style.display =\n",
              "        google.colab.kernel.accessAllowed ? 'block' : 'none';\n",
              "    })();\n",
              "  </script>\n",
              "</div>\n",
              "\n",
              "    </div>\n",
              "  </div>\n"
            ],
            "application/vnd.google.colaboratory.intrinsic+json": {
              "type": "dataframe",
              "summary": "{\n  \"name\": \"reviews_df\",\n  \"rows\": 10,\n  \"fields\": [\n    {\n      \"column\": \"review\",\n      \"properties\": {\n        \"dtype\": \"string\",\n        \"num_unique_values\": 10,\n        \"samples\": [\n          \"I reccomend this tabley yo every one. I purchased it for my brorher and he live it.\",\n          \"This suited my exact needs which was a mobile way of watching netflix.\",\n          \"I realized after purchasing that the reason you get so many for such great price is because it takes the entire box to equate to one 12 pack of more expensive batteries. The life on these is terrible! I've used them in everything from remote controls to kid toys and they run out VERY fast. Go ahead and spend the extra money for a better quality battery.\"\n        ],\n        \"semantic_type\": \"\",\n        \"description\": \"\"\n      }\n    },\n    {\n      \"column\": \"rating\",\n      \"properties\": {\n        \"dtype\": \"number\",\n        \"std\": 1,\n        \"min\": 1,\n        \"max\": 5,\n        \"num_unique_values\": 3,\n        \"samples\": [\n          5,\n          4,\n          1\n        ],\n        \"semantic_type\": \"\",\n        \"description\": \"\"\n      }\n    },\n    {\n      \"column\": \"sentiment\",\n      \"properties\": {\n        \"dtype\": \"category\",\n        \"num_unique_values\": 2,\n        \"samples\": [\n          \"negative\",\n          \"positive\"\n        ],\n        \"semantic_type\": \"\",\n        \"description\": \"\"\n      }\n    }\n  ]\n}"
            }
          },
          "metadata": {},
          "execution_count": 20
        }
      ],
      "source": [
        "reviews_df.sample(10, random_state = 86, ignore_index=True)"
      ],
      "id": "1c2fc1ad"
    },
    {
      "cell_type": "code",
      "execution_count": 21,
      "metadata": {
        "colab": {
          "base_uri": "https://localhost:8080/"
        },
        "id": "103c002e",
        "outputId": "8f9eca91-c213-4e39-d5ce-14066d7b1745"
      },
      "outputs": [
        {
          "output_type": "stream",
          "name": "stdout",
          "text": [
            "['neutral' 'positive' 'positive' 'positive' 'positive']\n",
            "\n",
            "\n",
            "['I order 3 of them and one of the item is bad quality. Is missing backup spring so I have to put a pcs of aluminum to make the battery work.'\n",
            " 'Bulk is always the less expensive way to go for products like these'\n",
            " 'Well they are not Duracell but for the price i am happy.'\n",
            " 'Seem to work as well as name brand batteries at a much better price'\n",
            " 'These batteries are very long lasting the price is great.']\n"
          ]
        }
      ],
      "source": [
        "sentiments = reviews_df[\"sentiment\"].values\n",
        "reviews = reviews_df[\"review\"].values\n",
        "print(sentiments[0:5])\n",
        "print(\"\\n\")\n",
        "print(reviews[0:5])"
      ],
      "id": "103c002e"
    },
    {
      "cell_type": "markdown",
      "metadata": {
        "id": "1d0857c0"
      },
      "source": [
        "## Convert text categories into one-hot encoded vector"
      ],
      "id": "1d0857c0"
    },
    {
      "cell_type": "markdown",
      "metadata": {
        "id": "d370c7df"
      },
      "source": [
        "We are importing keras utils here, this will be needed to convert the labels to one-hot encoded vectors. We'll use the the function \"to_categorical\" from this library to do this. To know more about this function, please check out this [link](https://www.tensorflow.org/api_docs/python/tf/keras/utils/to_categorical)."
      ],
      "id": "d370c7df"
    },
    {
      "cell_type": "markdown",
      "metadata": {
        "id": "4h0r_NLwa8JU"
      },
      "source": [
        "1. Tensorflow\n",
        "2. PyTorch\n",
        "3. Keras"
      ],
      "id": "4h0r_NLwa8JU"
    },
    {
      "cell_type": "markdown",
      "metadata": {
        "id": "8b4N6adSJZBZ"
      },
      "source": [
        "%pip install tensorflow"
      ],
      "id": "8b4N6adSJZBZ"
    },
    {
      "cell_type": "code",
      "execution_count": 28,
      "metadata": {
        "id": "56091da1"
      },
      "outputs": [],
      "source": [
        "import tensorflow.keras.utils as ku\n"
      ],
      "id": "56091da1"
    },
    {
      "cell_type": "markdown",
      "metadata": {
        "id": "64ace7f3"
      },
      "source": [
        "Keras to-categorical function takes numerical arguments, that's why we need to convert the text labels to numerical values first. To achieve this, we'll define this funnction."
      ],
      "id": "64ace7f3"
    },
    {
      "cell_type": "code",
      "execution_count": 22,
      "metadata": {
        "id": "f4ed559f"
      },
      "outputs": [],
      "source": [
        "# Label Encoding -- the reason being.. Model doesn't like chars.. needs number..So, labeling the sentiment to 0 1 ..\n",
        "def encode_sentiments(sentiment):\n",
        "    if sentiment == \"negative\":\n",
        "        return 0\n",
        "    elif sentiment == \"neutral\":\n",
        "        return 1\n",
        "    elif sentiment == \"positive\":\n",
        "        return 2"
      ],
      "id": "f4ed559f"
    },
    {
      "cell_type": "code",
      "execution_count": 24,
      "metadata": {
        "id": "2f68be50"
      },
      "outputs": [],
      "source": [
        "label_encoding = {0: 'negative', 1: 'neutral', 2: 'positve'}"
      ],
      "id": "2f68be50"
    },
    {
      "cell_type": "code",
      "execution_count": 25,
      "metadata": {
        "id": "ca7c21c9"
      },
      "outputs": [],
      "source": [
        "sentiments_encoded = [encode_sentiments(sentiment) for sentiment in sentiments]"
      ],
      "id": "ca7c21c9"
    },
    {
      "cell_type": "code",
      "execution_count": 26,
      "metadata": {
        "colab": {
          "base_uri": "https://localhost:8080/"
        },
        "id": "887d57d2",
        "outputId": "8fe39154-27ef-4384-f963-e951a8cb46a2"
      },
      "outputs": [
        {
          "output_type": "stream",
          "name": "stdout",
          "text": [
            "['neutral' 'positive' 'positive' 'positive' 'positive' 'positive'\n",
            " 'positive' 'positive' 'neutral' 'positive']\n",
            "[1, 2, 2, 2, 2, 2, 2, 2, 1, 2]\n"
          ]
        }
      ],
      "source": [
        "print(sentiments[0:10])\n",
        "print(sentiments_encoded[0:10])"
      ],
      "id": "887d57d2"
    },
    {
      "cell_type": "code",
      "execution_count": 29,
      "metadata": {
        "id": "2d8ffb33"
      },
      "outputs": [],
      "source": [
        "labels = ku.to_categorical(sentiments_encoded, num_classes = 3)"
      ],
      "id": "2d8ffb33"
    },
    {
      "cell_type": "code",
      "execution_count": null,
      "metadata": {
        "colab": {
          "base_uri": "https://localhost:8080/"
        },
        "id": "7847702c",
        "outputId": "3e41a55c-2c75-44c4-c4a3-57c0e8dcb784"
      },
      "outputs": [
        {
          "output_type": "stream",
          "name": "stdout",
          "text": [
            "[[0. 1. 0.]\n",
            " [0. 0. 1.]\n",
            " [0. 0. 1.]\n",
            " [0. 0. 1.]\n",
            " [0. 0. 1.]\n",
            " [0. 0. 1.]\n",
            " [0. 0. 1.]\n",
            " [0. 0. 1.]\n",
            " [0. 1. 0.]\n",
            " [0. 0. 1.]\n",
            " [0. 0. 1.]\n",
            " [0. 1. 0.]\n",
            " [0. 0. 1.]\n",
            " [0. 0. 1.]\n",
            " [0. 0. 1.]\n",
            " [0. 0. 1.]\n",
            " [1. 0. 0.]\n",
            " [1. 0. 0.]\n",
            " [0. 0. 1.]\n",
            " [0. 1. 0.]]\n"
          ]
        },
        {
          "output_type": "execute_result",
          "data": {
            "text/plain": [
              "array(['neutral', 'positive', 'positive', 'positive', 'positive',\n",
              "       'positive', 'positive', 'positive', 'neutral', 'positive',\n",
              "       'positive', 'neutral', 'positive', 'positive', 'positive',\n",
              "       'positive', 'negative', 'negative', 'positive', 'neutral'],\n",
              "      dtype=object)"
            ]
          },
          "metadata": {},
          "execution_count": 22
        }
      ],
      "source": [
        "print(labels[0:20])\n",
        "sentiments[0:20]"
      ],
      "id": "7847702c"
    },
    {
      "cell_type": "markdown",
      "metadata": {
        "id": "defa224e"
      },
      "source": [
        "## Cleaning of the review texts"
      ],
      "id": "defa224e"
    },
    {
      "cell_type": "code",
      "execution_count": 30,
      "metadata": {
        "colab": {
          "base_uri": "https://localhost:8080/"
        },
        "id": "14fdc163",
        "outputId": "8036e907-c1a6-4219-9f0a-2d21219188a4"
      },
      "outputs": [
        {
          "output_type": "stream",
          "name": "stdout",
          "text": [
            "I am really really impressed by this product.\n",
            "I am very very impressed by this product.\n"
          ]
        }
      ],
      "source": [
        "## NLP -- Natural Language Processing    (clean up the language.. make it consistent)\n",
        "## Like really really  means  very.. letting model know to change these type of things\n",
        "\n",
        "test_str = \"I am really really impressed by this product.\"\n",
        "print(test_str)\n",
        "old_pattern = \"really\"\n",
        "new_pattern = \"very\"\n",
        "new_str = re.sub(old_pattern, new_pattern, test_str)\n",
        "print(new_str)"
      ],
      "id": "14fdc163"
    },
    {
      "cell_type": "code",
      "execution_count": 31,
      "metadata": {
        "colab": {
          "base_uri": "https://localhost:8080/"
        },
        "id": "48231ae0",
        "outputId": "79cfe086-69d9-4f54-a526-4d56b313394c"
      },
      "outputs": [
        {
          "output_type": "stream",
          "name": "stdout",
          "text": [
            "Python 3.8\n",
            "Python <digit>.<digit>\n"
          ]
        }
      ],
      "source": [
        "## NLP -- Natural Language Processing    (clean up the language.. make it consistent)\n",
        "## Digits inn the review means nothing.. changing that to NLP\n",
        "\n",
        "test_str = \"Python 3.8\"\n",
        "print(test_str)\n",
        "old_pattern = r'\\d'\n",
        "new_pattern = '<digit>'\n",
        "new_str = re.sub(old_pattern, new_pattern, test_str)\n",
        "print(new_str)"
      ],
      "id": "48231ae0"
    },
    {
      "cell_type": "markdown",
      "metadata": {
        "id": "fefbf250"
      },
      "source": [
        "### Remove hyperlinks"
      ],
      "id": "fefbf250"
    },
    {
      "cell_type": "code",
      "execution_count": 32,
      "metadata": {
        "colab": {
          "base_uri": "https://localhost:8080/"
        },
        "id": "c9afc45f",
        "outputId": "b28d9a98-7f79-45a7-fef4-92456fc3dd45"
      },
      "outputs": [
        {
          "output_type": "stream",
          "name": "stdout",
          "text": [
            "Visit https://www.amazon.com for more information on this.\n",
            "Visit   for more information on this.\n"
          ]
        }
      ],
      "source": [
        "test_str = \"Visit https://www.amazon.com for more information on this.\"\n",
        "test_pattern = r'http\\S+'\n",
        "print(test_str)\n",
        "new_str = re.sub(test_pattern, \" \", test_str)\n",
        "print(new_str)"
      ],
      "id": "c9afc45f"
    },
    {
      "cell_type": "code",
      "execution_count": 33,
      "metadata": {
        "id": "c7e79e2d"
      },
      "outputs": [],
      "source": [
        "def remove_hyperlinks(text):\n",
        "    pattern_for_hyperlink = r'http\\S+'\n",
        "    return re.sub(pattern_for_hyperlink, \" \", text)"
      ],
      "id": "c7e79e2d"
    },
    {
      "cell_type": "code",
      "execution_count": null,
      "metadata": {
        "id": "f5aa3513"
      },
      "outputs": [],
      "source": [
        "reviews = [remove_hyperlinks(review) for review in reviews]"
      ],
      "id": "f5aa3513"
    },
    {
      "cell_type": "code",
      "execution_count": 34,
      "metadata": {
        "colab": {
          "base_uri": "https://localhost:8080/"
        },
        "id": "06fe155a",
        "outputId": "51a9a882-fcd6-4c47-fe2d-c54da37eaaa5"
      },
      "outputs": [
        {
          "output_type": "execute_result",
          "data": {
            "text/plain": [
              "array(['I order 3 of them and one of the item is bad quality. Is missing backup spring so I have to put a pcs of aluminum to make the battery work.',\n",
              "       'Bulk is always the less expensive way to go for products like these',\n",
              "       'Well they are not Duracell but for the price i am happy.',\n",
              "       'Seem to work as well as name brand batteries at a much better price',\n",
              "       'These batteries are very long lasting the price is great.'],\n",
              "      dtype=object)"
            ]
          },
          "metadata": {},
          "execution_count": 34
        }
      ],
      "source": [
        "reviews[0:5]"
      ],
      "id": "06fe155a"
    },
    {
      "cell_type": "markdown",
      "metadata": {
        "id": "63609d57"
      },
      "source": [
        "### Expand contracted words"
      ],
      "id": "63609d57"
    },
    {
      "cell_type": "code",
      "execution_count": 35,
      "metadata": {
        "id": "041ce721"
      },
      "outputs": [],
      "source": [
        "## NLP -- Natural Language Processing    (clean up the language.. make it consistent)\n",
        "## Like change can't to cannot etc..\n",
        "\n",
        "def remove_contracted_words(text):\n",
        "    text = re.sub(r\"won't\", \"will not\", text)\n",
        "    text = re.sub(r\"can\\'t\", \"can not\", text)\n",
        "    text = re.sub(r\"n\\'t\", \" not\", text)\n",
        "    text = re.sub(r\"\\'re\", \" are\", text)\n",
        "    text = re.sub(r\"\\'s\", \" is\", text)\n",
        "    text = re.sub(r\"\\'d\", \" would\", text)\n",
        "    text = re.sub(r\"\\'ll\", \" will\", text)\n",
        "    text = re.sub(r\"\\'t\", \" not\", text)\n",
        "    text = re.sub(r\"\\'ve\", \" have\", text)\n",
        "    text = re.sub(r\"\\'m\", \" am\", text)\n",
        "    return text"
      ],
      "id": "041ce721"
    },
    {
      "cell_type": "code",
      "execution_count": 36,
      "metadata": {
        "colab": {
          "base_uri": "https://localhost:8080/"
        },
        "id": "2e8bc327",
        "outputId": "535ecd7b-a433-4b32-c39f-ab3b6655954d"
      },
      "outputs": [
        {
          "output_type": "stream",
          "name": "stdout",
          "text": [
            "I can't use this product. I don't recommend this product to anyone.\n",
            "I can not use this product. I do not recommend this product to anyone.\n"
          ]
        }
      ],
      "source": [
        "test_str = \"I can't use this product. I don't recommend this product to anyone.\"\n",
        "print(test_str)\n",
        "print(remove_contracted_words(test_str))"
      ],
      "id": "2e8bc327"
    },
    {
      "cell_type": "code",
      "execution_count": 39,
      "metadata": {
        "id": "b9f75d9f"
      },
      "outputs": [],
      "source": [
        "## changing this in a for loop\n",
        "\n",
        "reviews = [remove_contracted_words(review) for review in reviews]"
      ],
      "id": "b9f75d9f"
    },
    {
      "cell_type": "code",
      "execution_count": 40,
      "metadata": {
        "colab": {
          "base_uri": "https://localhost:8080/"
        },
        "id": "b4f92567",
        "outputId": "8d9c21a3-5ed7-4e75-a3aa-f892b0e8edeb"
      },
      "outputs": [
        {
          "output_type": "execute_result",
          "data": {
            "text/plain": [
              "['I order 3 of them and one of the item is bad quality. Is missing backup spring so I have to put a pcs of aluminum to make the battery work.',\n",
              " 'Bulk is always the less expensive way to go for products like these',\n",
              " 'Well they are not Duracell but for the price i am happy.',\n",
              " 'Seem to work as well as name brand batteries at a much better price',\n",
              " 'These batteries are very long lasting the price is great.']"
            ]
          },
          "metadata": {},
          "execution_count": 40
        }
      ],
      "source": [
        "reviews[0:5]"
      ],
      "id": "b4f92567"
    },
    {
      "cell_type": "markdown",
      "metadata": {
        "id": "0a7ee6fb"
      },
      "source": [
        "### Remove everything other than letters of alphabet"
      ],
      "id": "0a7ee6fb"
    },
    {
      "cell_type": "code",
      "execution_count": 38,
      "metadata": {
        "id": "d62f23e3"
      },
      "outputs": [],
      "source": [
        "def remove_non_letters(text):\n",
        "    antipattern = r'[^A-Za-z]+'\n",
        "    return re.sub(antipattern, \" \", text)"
      ],
      "id": "d62f23e3"
    },
    {
      "cell_type": "code",
      "execution_count": 41,
      "metadata": {
        "colab": {
          "base_uri": "https://localhost:8080/"
        },
        "id": "90fcca13",
        "outputId": "f9bfde05-b4ff-4354-ffa0-56e3ac8320cc"
      },
      "outputs": [
        {
          "output_type": "execute_result",
          "data": {
            "text/plain": [
              "['I order of them and one of the item is bad quality Is missing backup spring so I have to put a pcs of aluminum to make the battery work ',\n",
              " 'Bulk is always the less expensive way to go for products like these',\n",
              " 'Well they are not Duracell but for the price i am happy ',\n",
              " 'Seem to work as well as name brand batteries at a much better price',\n",
              " 'These batteries are very long lasting the price is great ']"
            ]
          },
          "metadata": {},
          "execution_count": 41
        }
      ],
      "source": [
        "reviews = [remove_non_letters(review) for review in reviews]\n",
        "reviews[0:5]"
      ],
      "id": "90fcca13"
    },
    {
      "cell_type": "code",
      "execution_count": 42,
      "metadata": {
        "colab": {
          "base_uri": "https://localhost:8080/"
        },
        "id": "047922c3",
        "outputId": "2a7fe2c8-5641-4cf0-f7b8-751ddf9d76d8"
      },
      "outputs": [
        {
          "output_type": "execute_result",
          "data": {
            "text/plain": [
              "['I', 'recommend', 'resolution', 'with', 'GB', 'of', 'RAM']"
            ]
          },
          "metadata": {},
          "execution_count": 42
        }
      ],
      "source": [
        "test_string = \"I recommend      resolution with   GB of RAM     \"\n",
        "test_string_list = test_string.split()\n",
        "test_string_list"
      ],
      "id": "047922c3"
    },
    {
      "cell_type": "code",
      "execution_count": null,
      "metadata": {
        "colab": {
          "base_uri": "https://localhost:8080/",
          "height": 35
        },
        "id": "fd2c3888",
        "outputId": "b5494799-6dc3-4093-ca69-ff224aafc4d1"
      },
      "outputs": [
        {
          "output_type": "execute_result",
          "data": {
            "text/plain": [
              "'I recommend resolution with GB of RAM'"
            ],
            "application/vnd.google.colaboratory.intrinsic+json": {
              "type": "string"
            }
          },
          "metadata": {},
          "execution_count": 36
        }
      ],
      "source": [
        "' '.join(test_string_list)"
      ],
      "id": "fd2c3888"
    },
    {
      "cell_type": "code",
      "execution_count": 43,
      "metadata": {
        "colab": {
          "base_uri": "https://localhost:8080/",
          "height": 38
        },
        "id": "6de9a5c2",
        "outputId": "bab98336-5b37-49cf-cad5-e19ef47c3280"
      },
      "outputs": [
        {
          "output_type": "execute_result",
          "data": {
            "text/plain": [
              "'I do not like this product'"
            ],
            "application/vnd.google.colaboratory.intrinsic+json": {
              "type": "string"
            }
          },
          "metadata": {},
          "execution_count": 43
        }
      ],
      "source": [
        "test_string = \"       I do not like this product     \"\n",
        "test_string.strip()"
      ],
      "id": "6de9a5c2"
    },
    {
      "cell_type": "code",
      "execution_count": 44,
      "metadata": {
        "colab": {
          "base_uri": "https://localhost:8080/",
          "height": 38
        },
        "id": "d0e992a2",
        "outputId": "2475b5a3-9bf6-40f3-ab61-2c466b05cd90"
      },
      "outputs": [
        {
          "output_type": "execute_result",
          "data": {
            "text/plain": [
              "'i did not like deliver package provided by amazon'"
            ],
            "application/vnd.google.colaboratory.intrinsic+json": {
              "type": "string"
            }
          },
          "metadata": {},
          "execution_count": 44
        }
      ],
      "source": [
        "test_string = \"I did not like Deliver Package provided by AMAZON\"\n",
        "test_string.lower()"
      ],
      "id": "d0e992a2"
    },
    {
      "cell_type": "code",
      "execution_count": 46,
      "metadata": {
        "id": "4e217935"
      },
      "outputs": [],
      "source": [
        "### Change the case..  Don't care for emotions that reviewer is having putting in UPPERCASE\n",
        "def remove_spaces_and_convert_to_Lowercase(text):\n",
        "    return ' '.join(text.split()).strip().lower()"
      ],
      "id": "4e217935"
    },
    {
      "cell_type": "code",
      "execution_count": 47,
      "metadata": {
        "colab": {
          "base_uri": "https://localhost:8080/"
        },
        "id": "9fb4165c",
        "outputId": "13ae54ed-2fd8-4e1b-be75-0d4002af81c9"
      },
      "outputs": [
        {
          "output_type": "execute_result",
          "data": {
            "text/plain": [
              "['i order of them and one of the item is bad quality is missing backup spring so i have to put a pcs of aluminum to make the battery work',\n",
              " 'bulk is always the less expensive way to go for products like these',\n",
              " 'well they are not duracell but for the price i am happy',\n",
              " 'seem to work as well as name brand batteries at a much better price',\n",
              " 'these batteries are very long lasting the price is great']"
            ]
          },
          "metadata": {},
          "execution_count": 47
        }
      ],
      "source": [
        "reviews = [remove_spaces_and_convert_to_Lowercase(review) for review in reviews]\n",
        "reviews[0:5]"
      ],
      "id": "9fb4165c"
    },
    {
      "cell_type": "markdown",
      "metadata": {
        "id": "51fcaa08"
      },
      "source": [
        "## Tokenization"
      ],
      "id": "51fcaa08"
    },
    {
      "cell_type": "code",
      "execution_count": 48,
      "metadata": {
        "id": "589d53d1"
      },
      "outputs": [],
      "source": [
        "### IF we were using OpenAI, we could have used tiktoken.. Since we are doing this from basic.. we are using a basic keras\n",
        "from tensorflow.keras.preprocessing.text import Tokenizer"
      ],
      "id": "589d53d1"
    },
    {
      "cell_type": "code",
      "execution_count": 49,
      "metadata": {
        "id": "87b0688a"
      },
      "outputs": [],
      "source": [
        "VOCAB_SIZE = 30000\n",
        "UNK_TOK = '<UNK>'"
      ],
      "id": "87b0688a"
    },
    {
      "cell_type": "code",
      "source": [],
      "metadata": {
        "id": "3x-eBEnuxOB0"
      },
      "id": "3x-eBEnuxOB0",
      "execution_count": 49,
      "outputs": []
    },
    {
      "cell_type": "code",
      "execution_count": 50,
      "metadata": {
        "id": "f0a1b946"
      },
      "outputs": [],
      "source": [
        "tokenizer = Tokenizer(num_words = VOCAB_SIZE, oov_token=UNK_TOK)"
      ],
      "id": "f0a1b946"
    },
    {
      "cell_type": "code",
      "execution_count": 51,
      "metadata": {
        "id": "73cfa3f9"
      },
      "outputs": [],
      "source": [
        "tokenizer.fit_on_texts(reviews)"
      ],
      "id": "73cfa3f9"
    },
    {
      "cell_type": "code",
      "execution_count": 52,
      "metadata": {
        "id": "da676bd6"
      },
      "outputs": [],
      "source": [
        "sequences = tokenizer.texts_to_sequences(reviews)"
      ],
      "id": "da676bd6"
    },
    {
      "cell_type": "code",
      "execution_count": null,
      "metadata": {
        "colab": {
          "base_uri": "https://localhost:8080/"
        },
        "id": "eaf795cb",
        "outputId": "c852e57d-b234-4bb3-e14c-c67de0f1b2b9"
      },
      "outputs": [
        {
          "output_type": "stream",
          "name": "stdout",
          "text": [
            "[3, 313, 14, 38, 4, 42, 14, 2, 252, 9, 350, 92, 9, 1348, 1410, 2172, 28, 3, 17, 5, 177, 8, 3575, 14, 3945, 5, 240, 2, 64, 55]\n",
            "[138, 5, 55, 16, 53, 16, 104, 96, 15, 47, 8, 82, 88, 25]\n",
            "i order of them and one of the item is bad quality is missing backup spring so i have to put a pcs of aluminum to make the battery work\n",
            "seem to work as well as name brand batteries at a much better price\n"
          ]
        }
      ],
      "source": [
        "print(sequences[0])\n",
        "print(sequences[3])\n",
        "print(reviews[0])\n",
        "print(reviews[3])"
      ],
      "id": "eaf795cb"
    },
    {
      "cell_type": "markdown",
      "metadata": {
        "id": "085f5fa9"
      },
      "source": [
        "## Padding"
      ],
      "id": "085f5fa9"
    },
    {
      "cell_type": "code",
      "execution_count": 53,
      "metadata": {
        "id": "9affdbf8"
      },
      "outputs": [],
      "source": [
        "# Some reviews (input) can be very small, some reviews can be very big.. We need to standardize the size of the input (features). That's why we use padding.\n",
        "# Padding means, gets the common size of the feature or input (in this case reviews)\n",
        "\n",
        "from tensorflow.keras.preprocessing.sequence import pad_sequences"
      ],
      "id": "9affdbf8"
    },
    {
      "cell_type": "code",
      "execution_count": 54,
      "metadata": {
        "id": "a20b1520"
      },
      "outputs": [],
      "source": [
        "MAX_LEN = 32 # 32 words in my review"
      ],
      "id": "a20b1520"
    },
    {
      "cell_type": "code",
      "execution_count": 57,
      "metadata": {
        "id": "48b4262c"
      },
      "outputs": [],
      "source": [
        "###If the reviews are less than 32 words, add \"zero\".. Padding is done after the reviews.\n",
        "padded_sequences = np.array(pad_sequences(sequences,\n",
        "                                          maxlen=MAX_LEN,\n",
        "                                          padding='post',\n",
        "                                          truncating='post'))"
      ],
      "id": "48b4262c"
    },
    {
      "cell_type": "code",
      "execution_count": 59,
      "metadata": {
        "colab": {
          "base_uri": "https://localhost:8080/"
        },
        "id": "de79eaa6",
        "outputId": "2334121b-c8aa-4d69-a669-91c7a79673e2"
      },
      "outputs": [
        {
          "output_type": "stream",
          "name": "stdout",
          "text": [
            "[   3  313   14   38    4   42   14    2  252    9  350   92    9 1349\n",
            " 1411 2172   28    3   17    5  177    8 3579   14 3948    5  240    2\n",
            "   64   55    0    0]\n",
            "[532   9 181   2 216 209 167   5 137   7 296  51  30   0   0   0   0   0\n",
            "   0   0   0   0   0   0   0   0   0   0   0   0   0   0]\n",
            "[138   5  55  16  53  16 104  96  15  47   8  82  88  25   0   0   0   0\n",
            "   0   0   0   0   0   0   0   0   0   0   0   0   0   0]\n"
          ]
        }
      ],
      "source": [
        "### You will see that the input is all of the same size.. Smaller review will get more 0\n",
        "print(padded_sequences[0])\n",
        "print(padded_sequences[1])\n",
        "print(padded_sequences[3])"
      ],
      "id": "de79eaa6"
    },
    {
      "cell_type": "markdown",
      "metadata": {
        "id": "98c0170f"
      },
      "source": [
        "## Create the model"
      ],
      "id": "98c0170f"
    },
    {
      "cell_type": "code",
      "execution_count": null,
      "metadata": {
        "id": "316a2da1"
      },
      "outputs": [],
      "source": [
        "from tensorflow.keras.models import Sequential\n",
        "from tensorflow.keras.layers import Embedding, Bidirectional, SimpleRNN, Flatten, Dense"
      ],
      "id": "316a2da1"
    },
    {
      "cell_type": "code",
      "execution_count": null,
      "metadata": {
        "id": "802eee19"
      },
      "outputs": [],
      "source": [
        "model = Sequential()\n",
        "model.add(Embedding(VOCAB_SIZE, 16, input_length=MAX_LEN))\n",
        "model.add(Bidirectional(SimpleRNN(64, return_sequences=True)))\n",
        "model.add(Bidirectional(SimpleRNN(64)))\n",
        "model.add(Flatten())\n",
        "model.add(Dense(24, activation='relu'))\n",
        "model.add(Dense(3, activation='softmax'))"
      ],
      "id": "802eee19"
    },
    {
      "cell_type": "code",
      "execution_count": null,
      "metadata": {
        "id": "842bc392"
      },
      "outputs": [],
      "source": [
        "model.compile(optimizer='adam', loss='categorical_crossentropy', metrics=['accuracy'])"
      ],
      "id": "842bc392"
    },
    {
      "cell_type": "code",
      "execution_count": null,
      "metadata": {
        "colab": {
          "base_uri": "https://localhost:8080/"
        },
        "id": "470aff5c",
        "outputId": "5281c85a-6016-4d20-86de-94ad41f677cf"
      },
      "outputs": [
        {
          "output_type": "stream",
          "name": "stdout",
          "text": [
            "Model: \"sequential\"\n",
            "_________________________________________________________________\n",
            " Layer (type)                Output Shape              Param #   \n",
            "=================================================================\n",
            " embedding (Embedding)       (None, 32, 16)            480000    \n",
            "                                                                 \n",
            " bidirectional (Bidirection  (None, 32, 128)           10368     \n",
            " al)                                                             \n",
            "                                                                 \n",
            " bidirectional_1 (Bidirecti  (None, 128)               24704     \n",
            " onal)                                                           \n",
            "                                                                 \n",
            " flatten (Flatten)           (None, 128)               0         \n",
            "                                                                 \n",
            " dense (Dense)               (None, 24)                3096      \n",
            "                                                                 \n",
            " dense_1 (Dense)             (None, 3)                 75        \n",
            "                                                                 \n",
            "=================================================================\n",
            "Total params: 518243 (1.98 MB)\n",
            "Trainable params: 518243 (1.98 MB)\n",
            "Non-trainable params: 0 (0.00 Byte)\n",
            "_________________________________________________________________\n"
          ]
        }
      ],
      "source": [
        "model.summary()"
      ],
      "id": "470aff5c"
    },
    {
      "cell_type": "markdown",
      "metadata": {
        "id": "820b1b70"
      },
      "source": [
        "## Model training"
      ],
      "id": "820b1b70"
    },
    {
      "cell_type": "code",
      "execution_count": null,
      "metadata": {
        "colab": {
          "base_uri": "https://localhost:8080/"
        },
        "id": "f3dec5a5",
        "scrolled": false,
        "outputId": "5d1b1b76-d8f1-47d9-e942-6f2864aff72f"
      },
      "outputs": [
        {
          "output_type": "stream",
          "name": "stdout",
          "text": [
            "Epoch 1/10\n",
            "709/709 [==============================] - 39s 48ms/step - loss: 0.3465 - accuracy: 0.8986 - val_loss: 0.2190 - val_accuracy: 0.9367\n",
            "Epoch 2/10\n",
            "709/709 [==============================] - 30s 43ms/step - loss: 0.2288 - accuracy: 0.9258 - val_loss: 0.1760 - val_accuracy: 0.9481\n",
            "Epoch 3/10\n",
            "709/709 [==============================] - 31s 44ms/step - loss: 0.1710 - accuracy: 0.9447 - val_loss: 0.1572 - val_accuracy: 0.9515\n",
            "Epoch 4/10\n",
            "709/709 [==============================] - 33s 47ms/step - loss: 0.1184 - accuracy: 0.9621 - val_loss: 0.1245 - val_accuracy: 0.9674\n",
            "Epoch 5/10\n",
            "709/709 [==============================] - 32s 45ms/step - loss: 0.0848 - accuracy: 0.9731 - val_loss: 0.1019 - val_accuracy: 0.9756\n",
            "Epoch 6/10\n",
            "709/709 [==============================] - 31s 44ms/step - loss: 0.0669 - accuracy: 0.9794 - val_loss: 0.0913 - val_accuracy: 0.9816\n",
            "Epoch 7/10\n",
            "709/709 [==============================] - 30s 43ms/step - loss: 0.0494 - accuracy: 0.9848 - val_loss: 0.0914 - val_accuracy: 0.9824\n",
            "Epoch 8/10\n",
            "709/709 [==============================] - 32s 45ms/step - loss: 0.0518 - accuracy: 0.9837 - val_loss: 0.1277 - val_accuracy: 0.9696\n",
            "Epoch 9/10\n",
            "709/709 [==============================] - 31s 44ms/step - loss: 0.0496 - accuracy: 0.9842 - val_loss: 0.0974 - val_accuracy: 0.9836\n",
            "Epoch 10/10\n",
            "709/709 [==============================] - 32s 45ms/step - loss: 0.0384 - accuracy: 0.9885 - val_loss: 0.0983 - val_accuracy: 0.9824\n"
          ]
        },
        {
          "output_type": "execute_result",
          "data": {
            "text/plain": [
              "<keras.src.callbacks.History at 0x7def13ef2380>"
            ]
          },
          "metadata": {},
          "execution_count": 55
        }
      ],
      "source": [
        "model.fit(padded_sequences, labels, epochs=10, validation_split=0.2)"
      ],
      "id": "f3dec5a5"
    },
    {
      "cell_type": "markdown",
      "metadata": {
        "id": "2a03ad28"
      },
      "source": [
        "## Sentiment prediction using trained model"
      ],
      "id": "2a03ad28"
    },
    {
      "cell_type": "code",
      "execution_count": null,
      "metadata": {
        "id": "030af1d7"
      },
      "outputs": [],
      "source": [
        "positive_sample = 'ws husband and uncle they \\\n",
        "loved it and how easy they are to use with fantastic featuresi gave this as a christmas gift to my inla'\n",
        "\n",
        "negative_sample = 'if ads dont bother you then this may be a decent device purchased this \\\n",
        "for my kid and it was loaded down with so much spam it kept loading it up making \\\n",
        "it slow and laggy plus the carrasoul loadout makes it hard to navigate for kids \\\n",
        "not very kid friendly oh you can pay to remove the ads but it wont remove them all \\\n",
        "buy the samsung better everything'\n",
        "\n",
        "neutral_sample='it is terrible'"
      ],
      "id": "030af1d7"
    },
    {
      "cell_type": "code",
      "execution_count": null,
      "metadata": {
        "id": "3245beea"
      },
      "outputs": [],
      "source": [
        "sample_sequence = tokenizer.texts_to_sequences([negative_sample])[0]\n",
        "sample_sequence_padded = pad_sequences([sample_sequence],\n",
        "                                       maxlen=MAX_LEN,\n",
        "                                       padding='post',\n",
        "                                       truncating='post')"
      ],
      "id": "3245beea"
    },
    {
      "cell_type": "code",
      "execution_count": null,
      "metadata": {
        "id": "ItpG4PovoJ99"
      },
      "outputs": [],
      "source": [
        "label_encoding={0:'Negative', 1:'Neutral', 2:'Positive'}"
      ],
      "id": "ItpG4PovoJ99"
    },
    {
      "cell_type": "code",
      "execution_count": null,
      "metadata": {
        "colab": {
          "base_uri": "https://localhost:8080/"
        },
        "id": "d3bfabc9",
        "outputId": "076002f1-bf09-41bc-e126-2d821d6ef943"
      },
      "outputs": [
        {
          "output_type": "stream",
          "name": "stdout",
          "text": [
            "[[0.659 0.332 0.009]]\n",
            "Review: it is terrible\n",
            "Sentiment: Negative\n"
          ]
        }
      ],
      "source": [
        "from sklearn.preprocessing import LabelEncoder\n",
        "\n",
        "predictions = model.predict(sample_sequence_padded, verbose=0)\n",
        "print(np.round(predictions, 3))\n",
        "predicted_label = np.argmax(predictions, axis=1)[0]\n",
        "print(\"Review:\", neutral_sample)\n",
        "print(\"Sentiment:\", label_encoding[predicted_label])"
      ],
      "id": "d3bfabc9"
    },
    {
      "cell_type": "code",
      "source": [],
      "metadata": {
        "id": "AMBvTnhB3EHI"
      },
      "id": "AMBvTnhB3EHI",
      "execution_count": null,
      "outputs": []
    }
  ],
  "metadata": {
    "colab": {
      "provenance": []
    },
    "kernelspec": {
      "display_name": "Python 3 (ipykernel)",
      "language": "python",
      "name": "python3"
    },
    "language_info": {
      "codemirror_mode": {
        "name": "ipython",
        "version": 3
      },
      "file_extension": ".py",
      "mimetype": "text/x-python",
      "name": "python",
      "nbconvert_exporter": "python",
      "pygments_lexer": "ipython3",
      "version": "3.10.11"
    }
  },
  "nbformat": 4,
  "nbformat_minor": 5
}